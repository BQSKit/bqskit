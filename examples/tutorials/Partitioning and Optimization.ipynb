{
 "cells": [
  {
   "cell_type": "markdown",
   "id": "dadc6bf7",
   "metadata": {},
   "source": [
    "# Using Partitioning to Optimize a Circuit\n",
    "\n",
    "Synthesis is a very powerful circuit optimization technique. However, the input size to even QFAST doesn't scale to larger circuits well. In fact, to be able to synthesize a circuit currently, we will need to be able to simulate it. This will ultimately cap the scaling of synthesis algorithms. However, we can still use a synthesis tool together with partitioner to optimize small blocks of a circuit at a time. BQSKit was designed for this exact use case and in this guide, we will explore how to accomplish this. It is recommended that you read the other tutorials first."
   ]
  },
  {
   "cell_type": "code",
   "execution_count": 1,
   "id": "6040e7d4",
   "metadata": {},
   "outputs": [
    {
     "name": "stdout",
     "output_type": "stream",
     "text": [
      "HGate Count: 240\n",
      "CNOTGate Count: 360\n",
      "RXGate Count: 240\n",
      "RZGate Count: 180\n",
      "XGate Count: 8\n"
     ]
    }
   ],
   "source": [
    "# Load a 16-qubit time evolution circuit generated from the ArQTIC circuit generator.\n",
    "from bqskit.ir import Circuit\n",
    "\n",
    "circuit = Circuit.from_file('heisenberg-16-20.qasm')\n",
    "\n",
    "for gate in circuit.gate_set:\n",
    "    print(f\"{gate} Count:\", circuit.count(gate))"
   ]
  },
  {
   "attachments": {},
   "cell_type": "markdown",
   "id": "563b666f",
   "metadata": {},
   "source": [
    "We will partition the circuit and then use the `ForEachBlockPass` to perform operations on the individual blocks. Note the `ForEachBlockPass` will run the sub tasks in parallel."
   ]
  },
  {
   "cell_type": "code",
   "execution_count": 2,
   "id": "2bc9f3de",
   "metadata": {},
   "outputs": [
    {
     "name": "stdout",
     "output_type": "stream",
     "text": [
      "CNOTGate Count: 230\n",
      "U3Gate Count: 338\n"
     ]
    }
   ],
   "source": [
    "from bqskit.compiler import CompilationTask\n",
    "from bqskit.compiler import Compiler\n",
    "from bqskit.passes import QuickPartitioner\n",
    "from bqskit.passes import ForEachBlockPass\n",
    "from bqskit.passes import QSearchSynthesisPass\n",
    "from bqskit.passes import ScanningGateRemovalPass\n",
    "from bqskit.passes import UnfoldPass\n",
    "\n",
    "task = CompilationTask(circuit, [\n",
    "    QuickPartitioner(3),\n",
    "    ForEachBlockPass([QSearchSynthesisPass(), ScanningGateRemovalPass()]),\n",
    "    UnfoldPass(),\n",
    "])\n",
    "\n",
    "# Finally, we construct a compiler and submit the task\n",
    "with Compiler() as compiler:\n",
    "    synthesized_circuit = compiler.compile(task)\n",
    "    \n",
    "for gate in synthesized_circuit.gate_set:\n",
    "    print(f\"{gate} Count:\", synthesized_circuit.count(gate))"
   ]
  },
  {
   "cell_type": "markdown",
   "id": "05e5c54e",
   "metadata": {},
   "source": [
    "**Replace Filters**\n",
    "\n",
    "The `ForEachBlockPass` takes an optional parameter `replace_filter` that determines if the circuit resulting from running the input passes on the original block should replace the original block. In the below example, we alter the above flow to only replace a block if it has fewer two-qubit gates as a result of running `QSearchSynthesisPass` and `ScanningGateRemovalPass`.\n",
    "\n",
    "**Exercise:** Try changing the replace filter to suite your needs. You might want to select circuits with greater parallelism: `circuit.parallelism` or choose based on depth `circuit.depth`. "
   ]
  },
  {
   "cell_type": "code",
   "execution_count": 3,
   "id": "d0613862",
   "metadata": {},
   "outputs": [
    {
     "name": "stdout",
     "output_type": "stream",
     "text": [
      "HGate Count: 97\n",
      "CNOTGate Count: 230\n",
      "RZGate Count: 57\n",
      "RXGate Count: 115\n",
      "U3Gate Count: 209\n",
      "XGate Count: 7\n"
     ]
    }
   ],
   "source": [
    "from bqskit.ir.gates import CXGate\n",
    "\n",
    "def less_2q_gates(result_circuit, initial_block_as_op):\n",
    "    begin_cx_count = initial_block_as_op.gate._circuit.count(CXGate())\n",
    "    end_cx_count = result_circuit.count(CXGate())\n",
    "    return end_cx_count < begin_cx_count\n",
    "\n",
    "task = CompilationTask(circuit, [\n",
    "    QuickPartitioner(3),\n",
    "    ForEachBlockPass(\n",
    "        [QSearchSynthesisPass(), ScanningGateRemovalPass()],\n",
    "        replace_filter=less_2q_gates\n",
    "    ),\n",
    "    UnfoldPass(),\n",
    "])\n",
    "\n",
    "# Finally, we construct a compiler and submit the task\n",
    "with Compiler() as compiler:\n",
    "    synthesized_circuit = compiler.compile(task)\n",
    "    \n",
    "for gate in synthesized_circuit.gate_set:\n",
    "    print(f\"{gate} Count:\", synthesized_circuit.count(gate))"
   ]
  },
  {
   "cell_type": "markdown",
   "id": "167b57d7",
   "metadata": {},
   "source": [
    "## Gatesets\n",
    "\n",
    "Just like we changed the gates used by QSearch in the Search Synthesis tutorial, we can change the gates for the entire circuit using the same method.\n",
    "\n",
    "**Exercise:** Change the gates used in the below example to change the gate set for the circuit."
   ]
  },
  {
   "cell_type": "code",
   "execution_count": 4,
   "id": "0fa0d004",
   "metadata": {},
   "outputs": [
    {
     "name": "stdout",
     "output_type": "stream",
     "text": [
      "ISwapGate Count: 256\n",
      "U3Gate Count: 478\n"
     ]
    }
   ],
   "source": [
    "from bqskit.ir.gates import ISwapGate, U3Gate\n",
    "from bqskit.passes.search import SimpleLayerGenerator\n",
    "\n",
    "layer_gen = SimpleLayerGenerator(two_qudit_gate=ISwapGate(), single_qudit_gate_1=U3Gate())\n",
    "\n",
    "configured_qsearch_pass = QSearchSynthesisPass(layer_generator=layer_gen)\n",
    "\n",
    "task = CompilationTask(circuit, [\n",
    "    QuickPartitioner(3),\n",
    "    ForEachBlockPass([configured_qsearch_pass, ScanningGateRemovalPass()]),\n",
    "    UnfoldPass(),\n",
    "])\n",
    "\n",
    "with Compiler() as compiler:\n",
    "    synthesized_circuit = compiler.compile(task)\n",
    "    \n",
    "for gate in synthesized_circuit.gate_set:\n",
    "    print(f\"{gate} Count:\", synthesized_circuit.count(gate))"
   ]
  },
  {
   "cell_type": "markdown",
   "id": "298f942d",
   "metadata": {},
   "source": [
    "## Block Size\n",
    "\n",
    "Increasing the partitioner's block size will likely lead to better results at a runtime cost. If you have the computing resources, you can launch a Dask cluster and connect to it via `Compiler()`. The ForEachBlockPass will efficiently distribute the work. See the [Dask documentation](https://docs.dask.org/en/stable/setup.html) for how to launch a cluster."
   ]
  },
  {
   "cell_type": "code",
   "execution_count": null,
   "id": "5e06ba4a",
   "metadata": {},
   "outputs": [],
   "source": [
    "from bqskit.passes import LEAPSynthesisPass\n",
    "\n",
    "\n",
    "task = CompilationTask(circuit, [\n",
    "    QuickPartitioner(4),\n",
    "    ForEachBlockPass([LEAPSynthesisPass()]),\n",
    "    UnfoldPass(),\n",
    "])\n",
    "\n",
    "with Compiler() as compiler:\n",
    "    synthesized_circuit = compiler.compile(task)\n",
    "    \n",
    "for gate in synthesized_circuit.gate_set:\n",
    "    print(f\"{gate} Count:\", synthesized_circuit.count(gate))"
   ]
  },
  {
   "cell_type": "markdown",
   "id": "036d374f",
   "metadata": {},
   "source": [
    "## Iterative Optimization\n",
    "\n",
    "We have provided support for passes that manage control flow. This enables us to conditionally apply passes or to apply them in a loop. In the below example we will run the partitioning and synthesis sequence in a loop until the circuit stops decreasing in 2-qubit gate count."
   ]
  },
  {
   "cell_type": "code",
   "execution_count": 5,
   "id": "583a4c22",
   "metadata": {},
   "outputs": [
    {
     "name": "stdout",
     "output_type": "stream",
     "text": [
      "Current CNOT count: 360\n",
      "Current CNOT count: 230\n",
      "Current CNOT count: 224\n",
      "Current CNOT count: 224\n",
      "HGate Count: 91\n",
      "CNOTGate Count: 224\n",
      "RZGate Count: 55\n",
      "RXGate Count: 113\n",
      "U3Gate Count: 205\n",
      "XGate Count: 7\n"
     ]
    }
   ],
   "source": [
    "from bqskit.compiler import BasePass\n",
    "from bqskit.passes import WhileLoopPass, GateCountPredicate\n",
    "from bqskit.ir.gates import CXGate\n",
    "\n",
    "# Defining a new pass is as easy as implementing a `run` function.\n",
    "# In this pass, we just print some information about the circuit\n",
    "class PrintCNOTsPass(BasePass):\n",
    "    def run(self, circuit, data) -> None:\n",
    "        print(\"Current CNOT count:\", circuit.count(CXGate()))\n",
    "\n",
    "task = CompilationTask(circuit, [\n",
    "    PrintCNOTsPass(),\n",
    "    WhileLoopPass(\n",
    "        GateCountPredicate(CXGate()),\n",
    "        [\n",
    "            QuickPartitioner(3),\n",
    "            ForEachBlockPass(\n",
    "                [\n",
    "                    QSearchSynthesisPass(),\n",
    "                    ScanningGateRemovalPass()\n",
    "                ],\n",
    "                replace_filter=less_2q_gates\n",
    "            ),\n",
    "            UnfoldPass(),\n",
    "            PrintCNOTsPass(),\n",
    "        ]\n",
    "    )\n",
    "])\n",
    "\n",
    "with Compiler() as compiler:\n",
    "    synthesized_circuit = compiler.compile(task)\n",
    "    \n",
    "for gate in synthesized_circuit.gate_set:\n",
    "    print(f\"{gate} Count:\", synthesized_circuit.count(gate))"
   ]
  },
  {
   "cell_type": "markdown",
   "id": "bd8b0f1f",
   "metadata": {},
   "source": [
    "There's a lot new in the above example. First, we defined a new pass by subclassing `BasePass` and implementing a `run` method. This pass just prints the number of Controlled-not gates in the circuit when executed. We then use this before and inside a `WhileLoopPass` to see the progress of execution. Second, we perform a `WhileLoopPass` which takes a predicate and a sequence of passes. It will apply the passes supplied until the predicate produces false. We supplied a `GateCountPredicate` which evaluates to False when the specific gate count stops changing."
   ]
  },
  {
   "cell_type": "code",
   "execution_count": null,
   "id": "9654721a",
   "metadata": {},
   "outputs": [],
   "source": []
  }
 ],
 "metadata": {
  "kernelspec": {
   "display_name": "Python 3 (ipykernel)",
   "language": "python",
   "name": "python3"
  },
  "language_info": {
   "codemirror_mode": {
    "name": "ipython",
    "version": 3
   },
   "file_extension": ".py",
   "mimetype": "text/x-python",
   "name": "python",
   "nbconvert_exporter": "python",
   "pygments_lexer": "ipython3",
   "version": "3.9.7"
  }
 },
 "nbformat": 4,
 "nbformat_minor": 5
}
