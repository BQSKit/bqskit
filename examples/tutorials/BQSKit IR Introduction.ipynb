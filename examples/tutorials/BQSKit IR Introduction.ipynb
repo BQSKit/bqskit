{
 "cells": [
  {
   "cell_type": "markdown",
   "metadata": {},
   "source": [
    "# BQSKit Intermediate Representation (IR) Tutorial\n",
    "\n",
    "This tutorial will introduce a user to the core objects in the BQSKit package, as well as, how to manipulate them."
   ]
  },
  {
   "cell_type": "markdown",
   "metadata": {},
   "source": [
    "## 1. Unitary Matrices\n",
    "\n",
    "In BQSKit, most objects are part of the unitary class hierarchy. The base class, `Unitary`, represents a map from zero or more real numbers to a unitary matrix. All `Unitary` objects have a `get_unitary` method which takes in the unitaries parameters and returns the concrete `UnitaryMatrix` object.\n",
    "\n",
    "In the next section, we will learn more about gates, but for now we will use two well known gates to learn about `Unitary` objects."
   ]
  },
  {
   "cell_type": "code",
   "execution_count": 1,
   "metadata": {},
   "outputs": [],
   "source": [
    "from bqskit.ir.gates import CNOTGate, RZGate\n",
    "\n",
    "cnot = CNOTGate() # The constant Controlled-Not gate\n",
    "rz = RZGate() # Z-Rotation gate that takes one angle as a parameter"
   ]
  },
  {
   "cell_type": "markdown",
   "metadata": {},
   "source": [
    "In this first exercise, let's ensure these gates are part of the unitary class hierarchy."
   ]
  },
  {
   "cell_type": "code",
   "execution_count": 2,
   "metadata": {},
   "outputs": [],
   "source": [
    "from bqskit.qis.unitary import Unitary\n",
    "\n",
    "assert isinstance(cnot, Unitary)\n",
    "assert isinstance(rz, Unitary)"
   ]
  },
  {
   "cell_type": "markdown",
   "metadata": {},
   "source": [
    "All `Unitary` objects contain a `get_unitary` method that takes zero or more parameters and returns a `UnitaryMatrix`. In this excersie, we will calculate the matrix for both gates. Try changing the parameters, do you get what you expect to get?"
   ]
  },
  {
   "cell_type": "code",
   "execution_count": 3,
   "metadata": {},
   "outputs": [
    {
     "name": "stdout",
     "output_type": "stream",
     "text": [
      "CNOT's Unitary\n",
      "[[1.+0.j 0.+0.j 0.+0.j 0.+0.j]\n",
      " [0.+0.j 1.+0.j 0.+0.j 0.+0.j]\n",
      " [0.+0.j 0.+0.j 0.+0.j 1.+0.j]\n",
      " [0.+0.j 0.+0.j 1.+0.j 0.+0.j]]\n",
      "\n",
      "RZ's Unitary\n",
      "[[1.+0.j 0.+0.j]\n",
      " [0.+0.j 1.+0.j]]\n"
     ]
    }
   ],
   "source": [
    "cnot_utry = cnot.get_unitary()\n",
    "rz_utry = rz.get_unitary([0])\n",
    "\n",
    "print(\"CNOT's Unitary\")\n",
    "print(cnot_utry)\n",
    "print()\n",
    "\n",
    "print(\"RZ's Unitary\")\n",
    "print(rz_utry)"
   ]
  },
  {
   "cell_type": "markdown",
   "metadata": {},
   "source": [
    "We can ask the `Unitary` for the number of parameters in takes in its `get_unitary` method."
   ]
  },
  {
   "cell_type": "code",
   "execution_count": 4,
   "metadata": {},
   "outputs": [],
   "source": [
    "assert cnot.num_params == 0\n",
    "assert rz.num_params == 1\n",
    "\n",
    "# The cnot gate is constant since it takes zero parameters\n",
    "assert cnot.is_constant()\n",
    "\n",
    "# The rz gate is not constant and hence parameterized since it takes one or more parameters\n",
    "assert rz.is_parameterized()"
   ]
  },
  {
   "cell_type": "markdown",
   "metadata": {},
   "source": [
    "`Unitary` objects in BQSKit support arbitrary qudits rather than just qubits. Each `Unitary` has a `get_radixes` method that returns a list containing the base for each qudit the Unitary acts on. Try creating another mixed-base `Unitary` in the following code."
   ]
  },
  {
   "cell_type": "code",
   "execution_count": 5,
   "metadata": {},
   "outputs": [],
   "source": [
    "from bqskit.qis.unitary.unitarymatrix import UnitaryMatrix\n",
    "\n",
    "# Generate a random unitary sampled from the Haar random distribituion\n",
    "utry = UnitaryMatrix.random(4)\n",
    "assert utry.num_qudits == 4\n",
    "assert utry.is_qubit_only()\n",
    "\n",
    "# The random generation also takes an optional parameter `radixes`.\n",
    "utry_qutrit = UnitaryMatrix.random(4, [3, 3, 3, 3])\n",
    "assert utry_qutrit.num_qudits == 4\n",
    "assert utry_qutrit.is_qutrit_only()\n",
    "\n",
    "utry_mixed = UnitaryMatrix.random(3, [2, 3, 4])\n",
    "assert utry_mixed.num_qudits == 3\n",
    "assert utry_mixed.radixes == (2, 3, 4)"
   ]
  },
  {
   "cell_type": "markdown",
   "metadata": {},
   "source": [
    "`UnitaryMatrix` objects are concrete matrices that are also constant `Unitary` objects. They support most of the numpy api and for the most part can be used like normal numpy arrays. If you perform an operation that is closed for unitaries (conjugate, transpose, matmul, ...) the resulting object will remain a `UnitaryMatrix` object, otherwise it will downgrade to a `np.ndarray`."
   ]
  },
  {
   "cell_type": "code",
   "execution_count": 6,
   "metadata": {},
   "outputs": [
    {
     "name": "stdout",
     "output_type": "stream",
     "text": [
      "[[ 0.12804517-0.03115446j -0.45227384+0.23410755j  0.29993482-0.57918436j\n",
      "   0.54535272+0.02123345j]\n",
      " [-0.34091831+0.65418079j -0.15870818-0.06295846j -0.36057053-0.38101758j\n",
      "  -0.20637207+0.32999275j]\n",
      " [ 0.07762699-0.49647766j  0.30136061-0.35904412j -0.36035083-0.3157698j\n",
      "   0.20051822+0.50791952j]\n",
      " [ 0.28533796+0.32329905j  0.22793446-0.66317792j  0.07917605-0.25212486j\n",
      "   0.13274939-0.48460573j]]\n"
     ]
    }
   ],
   "source": [
    "# NBVAL_IGNORE_OUTPUT\n",
    "\n",
    "assert isinstance(utry, Unitary)\n",
    "\n",
    "import numpy as np\n",
    "utry1 = UnitaryMatrix.random(2)\n",
    "utry2 = UnitaryMatrix.random(2)\n",
    "utry3 = utry1 @ utry2\n",
    "utry4 = utry3.otimes(UnitaryMatrix.identity(1))\n",
    "print(utry4)\n",
    "assert isinstance(utry4, UnitaryMatrix)"
   ]
  },
  {
   "cell_type": "markdown",
   "metadata": {},
   "source": [
    "## 2. Circuits, Gates, and Operations\n",
    "\n",
    "Circuits are 2d arrays of operations. An operation encapsulates a gate, a set of qubits, and the gate parameters if any. There are many gates, you can look here to see them."
   ]
  },
  {
   "cell_type": "code",
   "execution_count": 7,
   "metadata": {},
   "outputs": [],
   "source": [
    "# TODO: Finish"
   ]
  }
 ],
 "metadata": {
  "kernelspec": {
   "display_name": "Python 3",
   "language": "python",
   "name": "python3"
  },
  "language_info": {
   "codemirror_mode": {
    "name": "ipython",
    "version": 3
   },
   "file_extension": ".py",
   "mimetype": "text/x-python",
   "name": "python",
   "nbconvert_exporter": "python",
   "pygments_lexer": "ipython3",
   "version": "3.12.10"
  }
 },
 "nbformat": 4,
 "nbformat_minor": 2
}
