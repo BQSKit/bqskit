{
 "cells": [
  {
   "cell_type": "markdown",
   "id": "732b40ec",
   "metadata": {},
   "source": [
    "# Search-based Synthesis Guide\n",
    "\n",
    "This tutorial will introduce a user to the search-based synthesis tools available as part of BQSKit. By the end of this tutorial, a user will gain experience with the QSearch and LEAP synthesis passes and how to customize them."
   ]
  },
  {
   "attachments": {
    "qsearchtree.png": {
     "image/png": "[encoded data removed]"
    }
   },
   "cell_type": "markdown",
   "id": "11d0f430",
   "metadata": {},
   "source": [
    "## Search-based Synthesis\n",
    "\n",
    "Quantum circuit synthesis is the process of converting a mathematical description of a quantum transformation, often given as a unitary matrix, into a circuit composed of gates from a fixed gate set. The search-based class of synthesis tools is categorized by the discrete search for a desired circuit through a space of circuits. These techniques are usually bottom-up, they start with an empty circuit and grow out as they search through the space.\n",
    "\n",
    "#### QSearch\n",
    "\n",
    "QSearch is a powerful search-based synthesis tool, which phrases the problem of circuit synthesis as a search over circuit structures combined with numerical optimization to instantiate circuit parameters. The algorithm starts by placing single-qubit rotations on all qubits. The circuit is then instantiated by calling a numerical optimization subroutine to solve for the gate's parameters that minimize the distance between the circuit's unitary and the target unitary. After this, fixed building blocks composed of two-qubit gates followed by single-qubit rotations are placed on all pairs of qubits. This branching pattern forms the circuit tree, seen below, where at depth n in the tree, all possible circuit structures with n two-qudit gates exist. Each structure is a candidate solution is evaluated using the same numerical optimization process, and the order of evaluations is determined by A* search.\n",
    "\n",
    "\n",
    "![qsearchtree.png](attachment:qsearchtree.png)\n",
    "\n",
    "#### LEAP\n",
    "\n",
    "QSearch produces circuits of very high quality: usually optimal in depth and with errors at the floating-point level. In theory the algorithm can work on a circuit of any size, however in practice, this is not the case. Due to the exponential rate of growth in the circuit tree and necessary backtracking, QSearch does not scale well past 4-qubit circuits. LEAP is an extension of the algorithm that modifies the search encouraging deeper movement into the search space with less backtracking. This does improve the scalability while maintaining very high quality results.\n",
    "\n",
    "### Properties\n",
    "\n",
    "- **Portable:** While the original algorithms extensively studied circuits with the CNOT and U3 gateset, in theory all universal gate sets can be supported.\n",
    "\n",
    "- **Topology-Aware:** Synthesis tools that produce circuits requiring no mapping to a hardware topology are said to be topology-aware. Since QSearch's and LEAP's search space branches on two-qudit placement, by limiting the possible placements of two-qudit gates is enough to produce topology aware tools.\n",
    "\n",
    "### BQSKit Implementations\n",
    "\n",
    "BQSKit implements both the QSearch and LEAP algorithms and are well integrated into the BQSKit framework. This allows the algorithms to fully take advantage of their properties."
   ]
  },
  {
   "cell_type": "markdown",
   "id": "0be4d6d8",
   "metadata": {},
   "source": [
    "1) Let's start with a simple example using QSearch off-the-shelf to synthesize a toffoli circuit:"
   ]
  },
  {
   "cell_type": "code",
   "execution_count": 1,
   "id": "51373fc2",
   "metadata": {},
   "outputs": [
    {
     "name": "stdout",
     "output_type": "stream",
     "text": [
      "Circuit(3)[U3Gate@(0,) ... RXGate@(1,)]\n"
     ]
    }
   ],
   "source": [
    "from bqskit.ir.circuit import Circuit\n",
    "from bqskit.compiler import Compiler\n",
    "from bqskit.qis.unitary import UnitaryMatrix\n",
    "from bqskit.passes import QSearchSynthesisPass\n",
    "\n",
    "# Encode the toffoli unitary\n",
    "toffoli_unitary = UnitaryMatrix([\n",
    "    [1, 0, 0, 0, 0, 0, 0, 0],\n",
    "    [0, 1, 0, 0, 0, 0, 0, 0],\n",
    "    [0, 0, 1, 0, 0, 0, 0, 0],\n",
    "    [0, 0, 0, 1, 0, 0, 0, 0],\n",
    "    [0, 0, 0, 0, 1, 0, 0, 0],\n",
    "    [0, 0, 0, 0, 0, 1, 0, 0],\n",
    "    [0, 0, 0, 0, 0, 0, 0, 1],\n",
    "    [0, 0, 0, 0, 0, 0, 1, 0],\n",
    "])\n",
    "\n",
    "# Inputs to the BQSKit compiler must be a circuit\n",
    "# So first we place the toffoli unitary into a circuit\n",
    "# Note: NumPy arrays are interchangable with UnitaryMatrix objects\n",
    "circuit = Circuit.from_unitary(toffoli_unitary)\n",
    "\n",
    "# We must now tell the compiler that we would like to execute QSearch\n",
    "# This is done by passing the circuit as the input and only a QSearchSynthesisPass\n",
    "# object in the workflow.\n",
    "\n",
    "# Finally, we construct a compiler and submit the task\n",
    "with Compiler() as compiler:\n",
    "    synthesized_circuit = compiler.compile(\n",
    "        circuit,\n",
    "        QSearchSynthesisPass()\n",
    "    )\n",
    "\n",
    "print(synthesized_circuit)"
   ]
  },
  {
   "cell_type": "code",
   "execution_count": 2,
   "id": "05f1e73e",
   "metadata": {},
   "outputs": [
    {
     "name": "stdout",
     "output_type": "stream",
     "text": [
      "Critial Path Length: 19\n",
      "Parallelism: 2.0526315789473686\n",
      "Total Number of Operations: 33\n",
      "CNOT Count: 6\n",
      "U3 Count: 3\n",
      "Interacting Qubit Pairs: CouplingGraph({(0, 1), (0, 2), (1, 2)})\n"
     ]
    }
   ],
   "source": [
    "from bqskit.ir.gates import CNOTGate, U3Gate\n",
    "\n",
    "# We can print some information about the circuit\n",
    "\n",
    "# Display the length of the critical path in the circuit\n",
    "print(\"Critial Path Length:\", synthesized_circuit.depth)\n",
    "\n",
    "# Display the parallelism in the circuit\n",
    "print(\"Parallelism:\", synthesized_circuit.parallelism)\n",
    "\n",
    "# Display the total number of gates\n",
    "print(\"Total Number of Operations:\", synthesized_circuit.num_operations)\n",
    "\n",
    "# As well as specific numbers\n",
    "print(\"CNOT Count:\", synthesized_circuit.count(CNOTGate()))\n",
    "print(\"U3 Count:\", synthesized_circuit.count(U3Gate()))\n",
    "\n",
    "# We can even see the logical connectivity of the circuit\n",
    "print(\"Interacting Qubit Pairs:\", synthesized_circuit.coupling_graph)"
   ]
  },
  {
   "cell_type": "markdown",
   "id": "6e52fca9",
   "metadata": {},
   "source": [
    "## Accuracy\n",
    "\n",
    "BQSKit's algorithms are all approximate, meaning that the results might be slightly different than the inputs. This is controllable and most of the time is at the floating-point level. However, we should always check our results when possible:"
   ]
  },
  {
   "cell_type": "code",
   "execution_count": 3,
   "id": "6a474dc8",
   "metadata": {},
   "outputs": [
    {
     "data": {
      "text/plain": [
       "np.float64(2.1073424255447017e-08)"
      ]
     },
     "execution_count": 3,
     "metadata": {},
     "output_type": "execute_result"
    }
   ],
   "source": [
    "out_utry = synthesized_circuit.get_unitary()\n",
    "out_utry.get_distance_from(toffoli_unitary)"
   ]
  },
  {
   "cell_type": "markdown",
   "id": "c294b311",
   "metadata": {},
   "source": [
    "This function uses a metric based on the Hilbert-Schmidt inner product:\n",
    "\n",
    "$$| U_T - U_C | = \\sqrt{1 - \\frac{|Tr(U_T^\\dagger U_C)|}{2^n}^2}$$\n",
    "\n",
    "This distance is global phase agnostic meaning that $U_T$ and $U_C$ are considered equal if they differ by only a global phase.\n",
    "\n",
    "**Change Target Accuracy**\n",
    "If the degree of approximation is too large you can adjust the `success_threshold` parameter in QSearch. This parameter is used to determine convergence of the algorithm. If the unitary implemented by the circuit differs from the target unitary by less than this number, then the algorithm claims success. You may also want to adjust the parameter to allow for more error in the hopes of finding a shorter circuit. This will all depend on your environment and goals.\n",
    "\n",
    "\n",
    "**Exercise:** Try changing the success threshold in the following example. What do you expect will happen?"
   ]
  },
  {
   "cell_type": "code",
   "execution_count": 4,
   "id": "9740b3c2",
   "metadata": {},
   "outputs": [
    {
     "name": "stdout",
     "output_type": "stream",
     "text": [
      "New Circuit CNOT Count: 4\n",
      "New Circuit Error: 0.3826835445810216\n"
     ]
    }
   ],
   "source": [
    "# We can increase the success threshold allowing for greater error in the result\n",
    "# Note 1e-1 is a very high error\n",
    "configured_qsearch_pass = QSearchSynthesisPass(success_threshold=1e-1)\n",
    "\n",
    "with Compiler() as compiler:\n",
    "    synthesized_circuit = compiler.compile(\n",
    "        circuit,\n",
    "        configured_qsearch_pass\n",
    "    )\n",
    "\n",
    "print(\"New Circuit CNOT Count:\", synthesized_circuit.count(CNOTGate()))\n",
    "out_utry = synthesized_circuit.get_unitary()\n",
    "print(\"New Circuit Error:\", out_utry.get_distance_from(toffoli_unitary))"
   ]
  },
  {
   "cell_type": "markdown",
   "id": "fe16ca12",
   "metadata": {},
   "source": [
    "Also observe that the printed error is probably higher than the success threshold. This is because, by default, QSearch internally uses a very simple distance calculation for faster calculations."
   ]
  },
  {
   "cell_type": "markdown",
   "id": "f358cfa8",
   "metadata": {},
   "source": [
    "## Gatesets and Layer Generation\n",
    "\n",
    "By default, the QSearch algorithm uses `U3Gate`s and `CNOTGate`s:"
   ]
  },
  {
   "cell_type": "code",
   "execution_count": 5,
   "id": "a153dff8",
   "metadata": {},
   "outputs": [
    {
     "data": {
      "text/plain": [
       "GateSet({RXGate, U3Gate, RYGate, CNOTGate, RZGate})"
      ]
     },
     "execution_count": 5,
     "metadata": {},
     "output_type": "execute_result"
    }
   ],
   "source": [
    "synthesized_circuit.gate_set"
   ]
  },
  {
   "cell_type": "markdown",
   "id": "213ec762",
   "metadata": {},
   "source": [
    "This can be changed by configuring the way QSearch generates layers in the search tree. These options are entirely modular and fully customizable. QSearch uses a LayerGenerator object to generate the candidate circuits that make up its search space. By default, a layer generator that places CNOT and U3 gate blocks is used. We can easily swap out the single- and two- qubit gates used in the same layer generation algorithm, or we can write our own algorithm entirely. This can be done by subclassing `LayerGenerator` and implementing the API.\n",
    "\n",
    "**Exercise:** Modify the below code to produce a toffoli circuit using the gates of your choice. You can find the gates currently implemented in BQSKit [here](https://bqskit.readthedocs.io/en/latest/source/ir.html#bqskit-gates-bqskit-ir-gates) and you can learn how to implement your own [here](https://bqskit.readthedocs.io/en/latest/tutorials/Introduction%20to%20BQSKit%20IR.html). Which gate set produces the best result?"
   ]
  },
  {
   "cell_type": "code",
   "execution_count": 6,
   "id": "3b1ef4a6",
   "metadata": {},
   "outputs": [
    {
     "name": "stdout",
     "output_type": "stream",
     "text": [
      "U3Gate Count: 19\n",
      "ISwapGate Count: 8\n"
     ]
    }
   ],
   "source": [
    "from bqskit.passes.search import SimpleLayerGenerator\n",
    "from bqskit.ir.gates import ISwapGate, PauliGate\n",
    "\n",
    "# We can use the same layer generation algorithm\n",
    "# and just change the gates used\n",
    "layer_gen = SimpleLayerGenerator(\n",
    "    two_qudit_gate=ISwapGate(),\n",
    "    single_qudit_gate_1=U3Gate()\n",
    ")\n",
    "\n",
    "configured_qsearch_pass = QSearchSynthesisPass(layer_generator=layer_gen)\n",
    "\n",
    "with Compiler() as compiler:\n",
    "    synthesized_circuit = compiler.compile(\n",
    "        circuit,\n",
    "        configured_qsearch_pass\n",
    "    )\n",
    "\n",
    "for gate in synthesized_circuit.gate_set:\n",
    "    print(f\"{gate} Count:\", synthesized_circuit.count(gate))"
   ]
  },
  {
   "cell_type": "markdown",
   "id": "1bfb70dc",
   "metadata": {},
   "source": [
    "**Custom Layer Generation (Optional)**\n",
    "\n",
    "We can customize the generation of layers even further. The `SimpleLayerGenerator` places building blocks composed of two-qudit gates followed by single-qudit gates, which has a history in practice. However, this entire flow is modular. The `LayerGenerator` API requires us to implement two methods `gen_initial_layer` and `gen_successors`. In the below example, we do something a bit more unnatural.\n",
    "\n",
    "For more information, see the API Documentation [here](https://bqskit.readthedocs.io/en/latest/source/autogen/bqskit.passes.LayerGenerator.html).\n",
    "\n",
    "**Exercise** Alter the below example to generate layers however you would like. Consider customizing the gate set, how successors are generated, and how you would implement topology-awareness here."
   ]
  },
  {
   "cell_type": "code",
   "execution_count": 7,
   "id": "23d45fb4",
   "metadata": {},
   "outputs": [
    {
     "name": "stdout",
     "output_type": "stream",
     "text": [
      "U3Gate Count: 15\n",
      "RYYGate Count: 2\n",
      "RZZGate Count: 6\n",
      "RXXGate Count: 4\n"
     ]
    }
   ],
   "source": [
    "from bqskit.ir.gates import RXXGate, RYYGate, RZZGate, U3Gate\n",
    "from bqskit.passes.search import LayerGenerator\n",
    "\n",
    "class CustomLayerGenerator(LayerGenerator):\n",
    "\n",
    "    def gen_initial_layer(self, target, data):\n",
    "        \"\"\"\n",
    "        Here we will generate the first circuit that seeds the search space.\n",
    "\n",
    "        By default, the SimpleLayerGenerator places single-qudit gates\n",
    "        on each qudit. Here let's do something a little more crazy\n",
    "        to demonstrate the potential.\n",
    "        \"\"\"\n",
    "\n",
    "        init_circuit = Circuit(target.num_qudits, target.radixes)\n",
    "\n",
    "        # Place RXX Gates on consective pairs of qudits\n",
    "        for i in range(init_circuit.num_qudits - 1):\n",
    "            init_circuit.append_gate(RXXGate(), (i, i+1))\n",
    "\n",
    "        return init_circuit\n",
    "\n",
    "    def gen_successors(self, circuit, data):\n",
    "        \"\"\"\n",
    "        During the search, this will be called when expanding a node.\n",
    "\n",
    "        By default, the SimpleLayerGenerator produces new circuits with\n",
    "        one more block of gates on each valid edge. Again, let's be\n",
    "        a little crazy here too.\n",
    "        \"\"\"\n",
    "\n",
    "        base_successor = circuit.copy()\n",
    "\n",
    "        # Apply a column of U3Gates\n",
    "        for i in range(base_successor.num_qudits):\n",
    "            base_successor.append_gate(U3Gate(), i)\n",
    "\n",
    "        successors = []\n",
    "\n",
    "        # Create 3 successors\n",
    "        # Each one has a line of a specific type of gate.\n",
    "        for gate in [RXXGate(), RYYGate(), RZZGate()]:\n",
    "            successor = base_successor.copy()\n",
    "            for i in range(base_successor.num_qudits - 1):\n",
    "                successor.append_gate(gate, (i, i+1))\n",
    "            successors.append(successor)\n",
    "\n",
    "        return successors\n",
    "\n",
    "\n",
    "# We can now use this layer generator just like the simple one\n",
    "configured_qsearch_pass = QSearchSynthesisPass(layer_generator=CustomLayerGenerator())\n",
    "\n",
    "with Compiler() as compiler:\n",
    "    synthesized_circuit = compiler.compile(\n",
    "        circuit,\n",
    "        configured_qsearch_pass\n",
    "    )\n",
    "\n",
    "for gate in synthesized_circuit.gate_set:\n",
    "    print(f\"{gate} Count:\", synthesized_circuit.count(gate))"
   ]
  },
  {
   "cell_type": "markdown",
   "id": "2564d542",
   "metadata": {},
   "source": [
    "Note that what we do here might not produce the shortest circuits since we are adding more gates at each step, but one advantage is that the circuit grows quicker and will most likely converge quicker.\n",
    "\n",
    "This layer generation technique is will most likely be useful to synthesize larger unitaries quicker."
   ]
  },
  {
   "cell_type": "markdown",
   "id": "cf6d4dac",
   "metadata": {},
   "source": [
    "## Search Heuristics\n",
    "\n",
    "The QSearch algorithm was original designed for use with the A* search heuristic, but this is also configurable in BQSKit's implementation. The search heuristic determines the order in which candidate solutions are evaluated and expanded. There are three that are implemented for you: `AStarHeuristic`, `DijkstraHeuristic`, `GreedyHeuristic`. These also have an API that you can implement if you would like to customize it further.\n",
    "\n",
    "**Exercise:** Modify the below code to use the different heuristics. How do the results change?"
   ]
  },
  {
   "cell_type": "code",
   "execution_count": 8,
   "id": "0aed452a",
   "metadata": {},
   "outputs": [
    {
     "name": "stdout",
     "output_type": "stream",
     "text": [
      "RXGate Count: 9\n",
      "U3Gate Count: 3\n",
      "RYGate Count: 18\n",
      "CNOTGate Count: 9\n",
      "RZGate Count: 9\n"
     ]
    }
   ],
   "source": [
    "from bqskit.passes.search import AStarHeuristic, DijkstraHeuristic, GreedyHeuristic\n",
    "\n",
    "configured_qsearch_pass = QSearchSynthesisPass(heuristic_function=GreedyHeuristic())\n",
    "\n",
    "# Create and execute a compilation task\n",
    "with Compiler() as compiler:\n",
    "    synthesized_circuit = compiler.compile(\n",
    "        circuit,\n",
    "        configured_qsearch_pass\n",
    "    )\n",
    "\n",
    "for gate in synthesized_circuit.gate_set:\n",
    "    print(f\"{gate} Count:\", synthesized_circuit.count(gate))"
   ]
  },
  {
   "cell_type": "markdown",
   "id": "32bfa87b",
   "metadata": {},
   "source": [
    "## Topology-Aware Synthesis\n",
    "\n",
    "Everything that we have done so far has been purely virtual. There has been no concept of a physical quantum processor and the restrictions that come with using a real one. We can program the BQSKit workflow with information about a physical machine; QSearch and LEAP will take advantage of this information and produce circuits that are already mapped to a machine's topology.\n",
    "\n",
    "Note that this is programmed in the layer generator. If you would like to continue using a custom one from a previous exercise, you can implement topology awareness in there. Take a look at the source code for the `SimpleLayerGenerator` to see how it is done there.\n"
   ]
  },
  {
   "cell_type": "code",
   "execution_count": 9,
   "id": "33fc6a8e",
   "metadata": {},
   "outputs": [
    {
     "name": "stdout",
     "output_type": "stream",
     "text": [
      "Circuit Coupling Graph: CouplingGraph({(0, 1), (1, 2)})\n",
      "RXGate Count: 8\n",
      "U3Gate Count: 3\n",
      "RYGate Count: 16\n",
      "CNOTGate Count: 8\n",
      "RZGate Count: 8\n"
     ]
    }
   ],
   "source": [
    "from bqskit.compiler import MachineModel\n",
    "from bqskit.passes import SetModelPass\n",
    "\n",
    "# A MachineModel object models a physical machine\n",
    "# Here model is a three-qubit model with a linear topology\n",
    "cg = (0, 1), (1, 2)\n",
    "model = MachineModel(3, cg)\n",
    "\n",
    "# We use a layout pass to:\n",
    "#    1) associate a MachineModel with the compiler flow\n",
    "#    2) assign logical to physical qudits\n",
    "with Compiler() as compiler:\n",
    "    synthesized_circuit = compiler.compile(\n",
    "        circuit, [\n",
    "            SetModelPass(model),\n",
    "            QSearchSynthesisPass()\n",
    "        ]\n",
    "    )\n",
    "\n",
    "print(\"Circuit Coupling Graph:\", synthesized_circuit.coupling_graph)\n",
    "for gate in synthesized_circuit.gate_set:\n",
    "    print(f\"{gate} Count:\", synthesized_circuit.count(gate))"
   ]
  },
  {
   "cell_type": "markdown",
   "id": "4d069e26",
   "metadata": {},
   "source": [
    "## The LEAP Algorithm\n",
    "\n",
    "The LEAP algorithm implemented in BQSKit supports the exact same features as QSearch. The search algorithm is just slightly different to encourage deeper searches rather than wider ones.\n",
    "\n",
    "**Exercise:** Run the below example, how does the synthesized toffoli circuit differ when compiled with LEAP vs QSearch. Modify the example, making use of all the options you learned for QSearch."
   ]
  },
  {
   "cell_type": "code",
   "execution_count": 10,
   "id": "e6fcb777",
   "metadata": {},
   "outputs": [
    {
     "name": "stdout",
     "output_type": "stream",
     "text": [
      "RXGate Count: 8\n",
      "U3Gate Count: 3\n",
      "RYGate Count: 16\n",
      "CNOTGate Count: 8\n",
      "RZGate Count: 8\n"
     ]
    }
   ],
   "source": [
    "from bqskit.passes import LEAPSynthesisPass\n",
    "\n",
    "with Compiler() as compiler:\n",
    "    synthesized_circuit = compiler.compile(circuit, [LEAPSynthesisPass()])\n",
    "\n",
    "for gate in synthesized_circuit.gate_set:\n",
    "    print(f\"{gate} Count:\", synthesized_circuit.count(gate))"
   ]
  },
  {
   "cell_type": "markdown",
   "id": "b1e7c127",
   "metadata": {},
   "source": [
    "## Putting It Together\n",
    "\n",
    "**Exercise:** Three unitaries of different sizes are hardcoded below. Try experiment with different configurations of search based synthesis. Some general tips:\n",
    "\n",
    "- LEAP will generally be faster with a slight hit to circuit depth\n",
    "- Use of more expressive gates will usually converge quicker but produce longer circuits\n",
    "- Search strategies that explore deeper into the circuit space quicker will often times converge quicker\n",
    "- Using off-the-shelf QSearch on a 5-qubit unitary likely will not converge\n",
    "- If you want the best results, it will take experimentation"
   ]
  },
  {
   "cell_type": "code",
   "execution_count": 11,
   "id": "0ed83ba6",
   "metadata": {},
   "outputs": [],
   "source": [
    "import math\n",
    "\n",
    "# Three qubit fredkin or Controlled-Swap gate\n",
    "fredkin_unitary = UnitaryMatrix([\n",
    "    [1, 0, 0, 0, 0, 0, 0, 0],\n",
    "    [0, 1, 0, 0, 0, 0, 0, 0],\n",
    "    [0, 0, 1, 0, 0, 0, 0, 0],\n",
    "    [0, 0, 0, 1, 0, 0, 0, 0],\n",
    "    [0, 0, 0, 0, 1, 0, 0, 0],\n",
    "    [0, 0, 0, 0, 0, 0, 1, 0],\n",
    "    [0, 0, 0, 0, 0, 1, 0, 0],\n",
    "    [0, 0, 0, 0, 0, 0, 0, 1],\n",
    "])\n",
    "\n",
    "# X-Gate with three controls (CCCX)\n",
    "cccx_unitary = UnitaryMatrix([\n",
    "    [1, 0, 0, 0, 0, 0, 0, 0, 0, 0, 0, 0, 0, 0, 0, 0],\n",
    "    [0, 1, 0, 0, 0, 0, 0, 0, 0, 0, 0, 0, 0, 0, 0, 0],\n",
    "    [0, 0, 1, 0, 0, 0, 0, 0, 0, 0, 0, 0, 0, 0, 0, 0],\n",
    "    [0, 0, 0, 1, 0, 0, 0, 0, 0, 0, 0, 0, 0, 0, 0, 0],\n",
    "    [0, 0, 0, 0, 1, 0, 0, 0, 0, 0, 0, 0, 0, 0, 0, 0],\n",
    "    [0, 0, 0, 0, 0, 1, 0, 0, 0, 0, 0, 0, 0, 0, 0, 0],\n",
    "    [0, 0, 0, 0, 0, 0, 1, 0, 0, 0, 0, 0, 0, 0, 0, 0],\n",
    "    [0, 0, 0, 0, 0, 0, 0, 1, 0, 0, 0, 0, 0, 0, 0, 0],\n",
    "    [0, 0, 0, 0, 0, 0, 0, 0, 1, 0, 0, 0, 0, 0, 0, 0],\n",
    "    [0, 0, 0, 0, 0, 0, 0, 0, 0, 1, 0, 0, 0, 0, 0, 0],\n",
    "    [0, 0, 0, 0, 0, 0, 0, 0, 0, 0, 1, 0, 0, 0, 0, 0],\n",
    "    [0, 0, 0, 0, 0, 0, 0, 0, 0, 0, 0, 1, 0, 0, 0, 0],\n",
    "    [0, 0, 0, 0, 0, 0, 0, 0, 0, 0, 0, 0, 1, 0, 0, 0],\n",
    "    [0, 0, 0, 0, 0, 0, 0, 0, 0, 0, 0, 0, 0, 1, 0, 0],\n",
    "    [0, 0, 0, 0, 0, 0, 0, 0, 0, 0, 0, 0, 0, 0, 0, 1],\n",
    "    [0, 0, 0, 0, 0, 0, 0, 0, 0, 0, 0, 0, 0, 0, 1, 0],\n",
    "])\n",
    "\n",
    "# An XXXXX(np.pi/4) rotation\n",
    "xxxxx_unitary = PauliGate(5).get_unitary([math.pi/4 if i == 341 else 0 for i in range(4**5)])"
   ]
  },
  {
   "cell_type": "code",
   "execution_count": 12,
   "id": "f7aba371",
   "metadata": {},
   "outputs": [],
   "source": [
    "# Change this to other unitaries\n",
    "circuit = Circuit.from_unitary(fredkin_unitary)\n",
    "\n",
    "# TODO: build your own compiler task\n",
    "# with Compiler() as compiler:\n",
    "#     synthesized_circuit = compiler.compile(circuit,)\n",
    "\n",
    "# for gate in synthesized_circuit.gate_set:\n",
    "#     print(f\"{gate} Count:\", synthesized_circuit.count(gate))"
   ]
  }
 ],
 "metadata": {
  "kernelspec": {
   "display_name": ".venv",
   "language": "python",
   "name": "python3"
  },
  "language_info": {
   "codemirror_mode": {
    "name": "ipython",
    "version": 3
   },
   "file_extension": ".py",
   "mimetype": "text/x-python",
   "name": "python",
   "nbconvert_exporter": "python",
   "pygments_lexer": "ipython3",
   "version": "3.11.9"
  }
 },
 "nbformat": 4,
 "nbformat_minor": 5
}
