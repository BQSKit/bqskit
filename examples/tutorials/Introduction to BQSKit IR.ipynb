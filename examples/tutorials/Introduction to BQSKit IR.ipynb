{
 "cells": [
  {
   "cell_type": "markdown",
   "metadata": {},
   "source": [
    "# BQSKit Intermediate Representation (IR) Tutorial\n",
    "\n",
    "This tutorial will introduce a user to the core objects in the BQSKit package, as well as, how to manipulate them."
   ]
  },
  {
   "cell_type": "markdown",
   "metadata": {},
   "source": [
    "## 1. Unitary Matrices\n",
    "\n",
    "In BQSKit, most objects are part of the unitary class hierarchy. The base class, `Unitary`, represents a map from zero or more real numbers to a unitary matrix. All `Unitary` objects have a `get_unitary` method which takes in the unitaries parameters and returns the concrete `UnitaryMatrix` object.\n",
    "\n",
    "In the next section, we will learn more about gates, but for now we will use two well known gates to learn about `Unitary` objects."
   ]
  },
  {
   "cell_type": "code",
   "execution_count": 1,
   "metadata": {},
   "outputs": [
    {
     "name": "stdout",
     "output_type": "stream",
     "text": [
      "CNOTGate\n",
      "RZGate\n"
     ]
    }
   ],
   "source": [
    "from bqskit.ir.gates import CNOTGate, RZGate\n",
    "\n",
    "cnot = CNOTGate() # The constant Controlled-Not gate\n",
    "rz = RZGate() # Z-Rotation gate that takes one angle as a parameter\n",
    "print(cnot)\n",
    "print(rz)"
   ]
  },
  {
   "cell_type": "markdown",
   "metadata": {},
   "source": [
    "In this first exercise, let's ensure these gates are part of the unitary class hierarchy."
   ]
  },
  {
   "cell_type": "code",
   "execution_count": 2,
   "metadata": {},
   "outputs": [],
   "source": [
    "from bqskit.qis.unitary.unitary import Unitary\n",
    "\n",
    "assert isinstance(cnot, Unitary)\n",
    "assert isinstance(rz, Unitary)"
   ]
  },
  {
   "cell_type": "markdown",
   "metadata": {},
   "source": [
    "All `Unitary` objects contain a `get_unitary` method that takes zero or more parameters and returns a `UnitaryMatrix`. This is because the BQSKit IR treats everything as a function from a vector of real numbers to a unitary matrix. \n",
    "\n",
    "**Exercise:** In the below example, we calculate the matrix for both gates. Try changing the parameters, what happens?"
   ]
  },
  {
   "cell_type": "code",
   "execution_count": 3,
   "metadata": {},
   "outputs": [
    {
     "name": "stdout",
     "output_type": "stream",
     "text": [
      "CNOT's Unitary\n",
      "[[1.+0.j 0.+0.j 0.+0.j 0.+0.j]\n",
      " [0.+0.j 1.+0.j 0.+0.j 0.+0.j]\n",
      " [0.+0.j 0.+0.j 0.+0.j 1.+0.j]\n",
      " [0.+0.j 0.+0.j 1.+0.j 0.+0.j]]\n",
      "\n",
      "RZ's Unitary\n",
      "[[1.+0.j 0.+0.j]\n",
      " [0.+0.j 1.+0.j]]\n"
     ]
    }
   ],
   "source": [
    "cnot_utry = cnot.get_unitary()\n",
    "rz_utry = rz.get_unitary([0])\n",
    "\n",
    "print(\"CNOT's Unitary\")\n",
    "print(cnot_utry)\n",
    "print()\n",
    "\n",
    "print(\"RZ's Unitary\")\n",
    "print(rz_utry)"
   ]
  },
  {
   "cell_type": "markdown",
   "metadata": {},
   "source": [
    "We can ask the `Unitary` for the number of parameters it takes in its `get_unitary` method."
   ]
  },
  {
   "cell_type": "code",
   "execution_count": 4,
   "metadata": {},
   "outputs": [],
   "source": [
    "assert cnot.num_params == 0\n",
    "assert rz.num_params == 1\n",
    "\n",
    "# The cnot gate is constant since it takes zero parameters\n",
    "assert cnot.is_constant()\n",
    "\n",
    "# The rz gate is not constant and hence parameterized since it takes one or more parameters\n",
    "assert rz.is_parameterized()"
   ]
  },
  {
   "cell_type": "markdown",
   "metadata": {},
   "source": [
    "`Unitary` objects in BQSKit are always described in the context of a quantum system. As a result, we associate a `radixes` list with each object. This is a list of integers which describes the number of orthogonal states for each qudit in the system. For example, a n-qubit unitary would have a n-length list containing only `2`s. A qutrit unitary would have a list containing only `3`s, and hybrid systems are supported."
   ]
  },
  {
   "cell_type": "code",
   "execution_count": 5,
   "metadata": {},
   "outputs": [
    {
     "name": "stdout",
     "output_type": "stream",
     "text": [
      "Generated a 4-qubit unitary, radixes is: (2, 2, 2, 2).\n",
      "Generated a 4-qutrit unitary, radixes is: (3, 3, 3, 3).\n",
      "Generated a 3-hybrid-qudit unitary, radixes is: (2, 3, 4).\n"
     ]
    }
   ],
   "source": [
    "# NBVAL_IGNORE_OUTPUT\n",
    "from bqskit.qis.unitary import UnitaryMatrix\n",
    "\n",
    "# Generate a random unitary sampled from the Haar random distribituion\n",
    "utry = UnitaryMatrix.random(4)\n",
    "# print(utry)\n",
    "print(f\"Generated a {utry.num_qudits}-qubit unitary, radixes is: {utry.radixes}.\")\n",
    "\n",
    "# The random generation also takes an optional parameter `radixes`.\n",
    "utry_qutrit = UnitaryMatrix.random(4, [3, 3, 3, 3])\n",
    "print(f\"Generated a {utry_qutrit.num_qudits}-qutrit unitary, radixes is: {utry_qutrit.radixes}.\")\n",
    "\n",
    "utry_mixed = UnitaryMatrix.random(3, [2, 3, 4])\n",
    "print(f\"Generated a {utry_mixed.num_qudits}-hybrid-qudit unitary, radixes is: {utry_mixed.radixes}.\")"
   ]
  },
  {
   "cell_type": "markdown",
   "metadata": {},
   "source": [
    "In the last example, the `utry_mixed` unitary is associated with a 3-qudit system, where the first qudit is a qubit, the second is a qutrit, and last is a qudit with 4 bases.\n",
    "\n",
    "**UnitaryMatrix**\n",
    "\n",
    "`UnitaryMatrix` objects are concrete matrices that are also constant `Unitary` objects. They support most of the numpy api and for the most part can be used like normal numpy arrays. If you perform an operation that is closed for unitaries (conjugate, transpose, matmul, ...) the resulting object will remain a `UnitaryMatrix` object, otherwise it will downgrade to a `np.ndarray`."
   ]
  },
  {
   "cell_type": "code",
   "execution_count": 6,
   "metadata": {},
   "outputs": [
    {
     "name": "stdout",
     "output_type": "stream",
     "text": [
      "[[ 0.30043982-0.06581517j -0.68307587-0.05520978j -0.02942948+0.35031251j\n",
      "  -0.02922122-0.55796477j]\n",
      " [ 0.57362365+0.04410373j  0.50799221-0.14871057j -0.14057302-0.17182959j\n",
      "  -0.4409986 -0.38088569j]\n",
      " [ 0.2022563 -0.2380398j   0.14448823-0.28739111j  0.8499012 +0.02402897j\n",
      "   0.27015801-0.05535474j]\n",
      " [ 0.08462828+0.68533389j -0.30946541-0.22571881j  0.30530597-0.10491753j\n",
      "  -0.42253614+0.3060743j ]]\n"
     ]
    }
   ],
   "source": [
    "# NBVAL_IGNORE_OUTPUT\n",
    "from bqskit.qis.unitary import Unitary\n",
    "\n",
    "assert isinstance(utry, Unitary)\n",
    "\n",
    "import numpy as np\n",
    "utry1 = UnitaryMatrix.random(2)\n",
    "utry2 = UnitaryMatrix.random(2)\n",
    "utry3 = utry1 @ utry2\n",
    "utry4 = utry3.otimes(UnitaryMatrix.identity(1))\n",
    "print(utry4)\n",
    "assert isinstance(utry4, UnitaryMatrix)"
   ]
  },
  {
   "cell_type": "markdown",
   "metadata": {},
   "source": [
    "## 2. Circuits, Gates, and Operations\n",
    "\n",
    "Circuits are 2d arrays of operations. An operation encapsulates a gate, a set of qubits, and the gate's parameters if any. BQSKit supports many gates, you can find them [here](https://bqskit.readthedocs.io/en/latest/source/ir.html#bqskit-gates-bqskit-ir-gates). You will also find out how to implement them below if you would like to support your own gates."
   ]
  },
  {
   "cell_type": "code",
   "execution_count": 7,
   "metadata": {},
   "outputs": [],
   "source": [
    "from bqskit.ir import Circuit\n",
    "\n",
    "# When creating a Circuit object, we just need to pass it how many qudits it will be for\n",
    "circuit = Circuit(2) # Two-qubit circuit\n",
    "\n",
    "# We can also pass in a `radixes` object similar to before\n",
    "circuit = Circuit(4, [3, 3, 3, 3]) # Four-qutrit circuit\n",
    "\n",
    "# You can also load a circuit from a qasm file:\n",
    "# circuit = Circuit.from_file(\"some_program.qasm\")"
   ]
  },
  {
   "cell_type": "code",
   "execution_count": 8,
   "metadata": {},
   "outputs": [
    {
     "name": "stdout",
     "output_type": "stream",
     "text": [
      "[[ 0.70710678+0.j  0.        +0.j  0.70710678+0.j  0.        +0.j]\n",
      " [ 0.        +0.j  0.70710678+0.j  0.        +0.j  0.70710678+0.j]\n",
      " [ 0.        +0.j  0.70710678+0.j  0.        +0.j -0.70710678+0.j]\n",
      " [ 0.70710678+0.j  0.        +0.j -0.70710678+0.j  0.        +0.j]]\n"
     ]
    }
   ],
   "source": [
    "from bqskit.ir.gates import HGate, CXGate\n",
    "\n",
    "# Let's construct a simple circuit that prepares a Bell state\n",
    "circuit = Circuit(2)\n",
    "circuit.append_gate(HGate(), 0) # Add a Hadamard gate on the 0-th qudit.\n",
    "circuit.append_gate(CXGate(), (0, 1)) # Add a cnot on qudits 0 and 1 (Control 0).\n",
    "print(circuit.get_unitary()) # Calculate and print the unitary for the circuit"
   ]
  },
  {
   "cell_type": "code",
   "execution_count": 9,
   "metadata": {},
   "outputs": [
    {
     "name": "stdout",
     "output_type": "stream",
     "text": [
      "[0.70710678+0.j 0.        +0.j 0.        +0.j 0.70710678+0.j]\n"
     ]
    }
   ],
   "source": [
    "# NBVAL_IGNORE_OUTPUT\n",
    "\n",
    "# We can also simulate a statevector:\n",
    "print(circuit.get_statevector([1, 0, 0, 0]))\n",
    "# This will return the output state when (1, 0, 0, 0) is given as the input state."
   ]
  },
  {
   "cell_type": "code",
   "execution_count": 10,
   "metadata": {},
   "outputs": [
    {
     "name": "stdout",
     "output_type": "stream",
     "text": [
      "HGate@(0,)\n",
      "CNOTGate@(0, 1)\n"
     ]
    }
   ],
   "source": [
    "# We can iterate through all the operations in the circuit\n",
    "for op in circuit:\n",
    "    # This will print the entire operation\n",
    "    # which includes the gate as well as\n",
    "    # the qudits the gate is applied to\n",
    "    # and the parameters if there are any\n",
    "    print(op)"
   ]
  },
  {
   "cell_type": "markdown",
   "metadata": {},
   "source": [
    "BQSKit gates are simple objects that are designed to be simple to create, but also support a rich variety of features. Any gate that is created will need to specify a way to calculate its unitary through `get_unitary`. We also need to associate a quantum system with the gate, this specifies the `radixes` that the gate can handle. There are a number of gate base classes that handle implementing a lot of this for you. For example, the hadamard gate implementation is below:"
   ]
  },
  {
   "cell_type": "code",
   "execution_count": 11,
   "metadata": {},
   "outputs": [],
   "source": [
    "import math\n",
    "\n",
    "from bqskit.ir.gates.constantgate import ConstantGate\n",
    "from bqskit.ir.gates.qubitgate import QubitGate\n",
    "from bqskit.qis.unitary.unitarymatrix import UnitaryMatrix\n",
    "\n",
    "\n",
    "class HGate(ConstantGate, QubitGate):\n",
    "    _num_qudits = 1\n",
    "    _qasm_name = 'h'\n",
    "    _utry = UnitaryMatrix(\n",
    "        [\n",
    "            [math.sqrt(2) / 2, math.sqrt(2) / 2],\n",
    "            [math.sqrt(2) / 2, -math.sqrt(2) / 2],\n",
    "        ],\n",
    "    )"
   ]
  },
  {
   "cell_type": "markdown",
   "metadata": {},
   "source": [
    "Note, the gate subclasses both `ConstantGate` and `QubitGate`. A `ConstantGate` requires a `_utry` class or instance attribute and then will handle unitary calculations for you. The `QubitGate` requires a `_num_qudits` class or instance attribute and then will handle `radixes` calculations for you. There is also the `QutritGate`."
   ]
  },
  {
   "cell_type": "markdown",
   "metadata": {},
   "source": [
    "Parameterized gates, gates that take one or more parameters to calculate their unitary e.g. X-rotation gate, require a little more. Look at the below example to see how a X-rotation gate is implemented:"
   ]
  },
  {
   "cell_type": "code",
   "execution_count": 12,
   "metadata": {},
   "outputs": [],
   "source": [
    "from typing import Sequence\n",
    "\n",
    "import numpy as np\n",
    "\n",
    "from bqskit.ir.gates.qubitgate import QubitGate\n",
    "from bqskit.qis.unitary.differentiable import DifferentiableUnitary\n",
    "from bqskit.qis.unitary.optimizable import LocallyOptimizableUnitary\n",
    "from bqskit.qis.unitary.unitarymatrix import UnitaryMatrix\n",
    "from bqskit.qis.unitary.unitary import RealVector\n",
    "from bqskit.utils.cachedclass import CachedClass\n",
    "\n",
    "\n",
    "class RXGate(\n",
    "    QubitGate,\n",
    "    DifferentiableUnitary,\n",
    "    LocallyOptimizableUnitary,\n",
    "    CachedClass,\n",
    "):\n",
    "    _num_qudits = 1\n",
    "    _num_params = 1\n",
    "    _qasm_name = 'rx'\n",
    "\n",
    "    def get_unitary(self, params: RealVector = []) -> UnitaryMatrix:\n",
    "        \"\"\"Return the unitary for this gate, see :class:`Unitary` for more.\"\"\"\n",
    "        self.check_parameters(params)\n",
    "\n",
    "        cos = np.cos(params[0] / 2)\n",
    "        sin = -1j * np.sin(params[0] / 2)\n",
    "\n",
    "        return UnitaryMatrix(\n",
    "            [\n",
    "                [cos, sin],\n",
    "                [sin, cos],\n",
    "            ],\n",
    "        )\n",
    "\n",
    "    def get_grad(self, params: RealVector = []) -> np.ndarray:\n",
    "        \"\"\"\n",
    "        Return the gradient for this gate.\n",
    "\n",
    "        See :class:`DifferentiableUnitary` for more info.\n",
    "        \"\"\"\n",
    "        self.check_parameters(params)\n",
    "\n",
    "        dcos = -np.sin(params[0] / 2) / 2\n",
    "        dsin = -1j * np.cos(params[0] / 2) / 2\n",
    "\n",
    "        return np.array(\n",
    "            [\n",
    "                [\n",
    "                    [dcos, dsin],\n",
    "                    [dsin, dcos],\n",
    "                ],\n",
    "            ], dtype=np.complex128,\n",
    "        )\n",
    "\n",
    "    def optimize(self, env_matrix: np.ndarray) -> list[float]:\n",
    "        \"\"\"\n",
    "        Return the optimal parameters with respect to an environment matrix.\n",
    "\n",
    "        See :class:`LocallyOptimizableUnitary` for more info.\n",
    "        \"\"\"\n",
    "        self.check_env_matrix(env_matrix)\n",
    "        a = np.real(env_matrix[0, 0] + env_matrix[1, 1])\n",
    "        b = np.imag(env_matrix[0, 1] + env_matrix[1, 0])\n",
    "        theta = 2 * np.arccos(a / np.sqrt(a ** 2 + b ** 2))\n",
    "        theta *= -1 if b < 0 else 1\n",
    "        return [theta]\n"
   ]
  },
  {
   "cell_type": "markdown",
   "metadata": {},
   "source": [
    "This gate has a few methods. The `get_unitary` one is important and responsible for the calculation of its unitary. The `get_grad` is necessary since this is a `DifferentiableUnitary`. A differentiable unitary can be used in instantiation calls that use a gradient based optimization subroutine.\n",
    "\n",
    "The `optimize` method is necessary since this is a `LocallyOptimizableUnitary`. This unitary can be used in instantiation calls that use a tensor-network based approach like QFactor.\n",
    "\n",
    "By implementing a parameterized gate that is either differentiable or locally optimizable, your gate can then be used by bqskit algorithms in calls to instantiation during synthesis."
   ]
  },
  {
   "cell_type": "markdown",
   "metadata": {},
   "source": [
    "**Advanced Exercise:** Implement your own gate below. After learning about the synthesis options available with BQSKit in the next tutorial, attempt to synthesize a circuit with your gate. Look to see how other gates are implemented for inspiration."
   ]
  },
  {
   "cell_type": "code",
   "execution_count": null,
   "metadata": {},
   "outputs": [],
   "source": []
  }
 ],
 "metadata": {
  "kernelspec": {
   "display_name": "Python 3",
   "language": "python",
   "name": "python3"
  },
  "language_info": {
   "codemirror_mode": {
    "name": "ipython",
    "version": 3
   },
   "file_extension": ".py",
   "mimetype": "text/x-python",
   "name": "python",
   "nbconvert_exporter": "python",
   "pygments_lexer": "ipython3",
   "version": "3.12.10"
  }
 },
 "nbformat": 4,
 "nbformat_minor": 2
}
